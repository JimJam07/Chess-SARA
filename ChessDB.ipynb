{
 "cells": [
  {
   "cell_type": "markdown",
   "id": "86f23addc2cb5c36",
   "metadata": {},
   "source": [
    "# Chess Dataset Processing Script\n",
    "- This Script processes different PGN file and combines them into a singular file for easy processing"
   ]
  },
  {
   "cell_type": "code",
   "execution_count": 1,
   "id": "5e3f2a81",
   "metadata": {},
   "outputs": [],
   "source": [
    "import os\n",
    "from chess.pgn import read_game\n",
    "import chess\n",
    "import src.utils.board_to_tensor as bt\n",
    "from src.utils.data_preperation import chessDataLoader\n",
    "import torch\n",
    "import numpy as np"
   ]
  },
  {
   "cell_type": "code",
   "execution_count": 6,
   "id": "4b21cbf6",
   "metadata": {},
   "outputs": [],
   "source": [
    "games = []\n",
    "with open(\"dataset/chess_1.pgn\") as f:\n",
    "    while True:\n",
    "        game = chess.pgn.read_game(f)\n",
    "        if game is None:\n",
    "            break\n",
    "        games.append(game)\n",
    "        break"
   ]
  },
  {
   "cell_type": "markdown",
   "id": "a54cf2a6",
   "metadata": {},
   "source": [
    "## Counting number of games"
   ]
  },
  {
   "cell_type": "code",
   "execution_count": 3,
   "id": "12e93356",
   "metadata": {},
   "outputs": [
    {
     "name": "stdout",
     "output_type": "stream",
     "text": [
      "Processed 125550 games.\n"
     ]
    }
   ],
   "source": [
    "# Specify the PGN file path\n",
    "pgn_file_path = \"./combined_games.pgn\"\n",
    "\n",
    "# Open and parse the PGN file\n",
    "with open(pgn_file_path, \"r\") as pgn_file:\n",
    "    game_count = 0  # To track the number of games processed\n",
    "\n",
    "    while True:\n",
    "        # Read the next game\n",
    "        game = chess.pgn.read_game(pgn_file)\n",
    "        if game is None:  # End of file\n",
    "            break\n",
    "\n",
    "        # Optional: Access moves\n",
    "        board = game.board()\n",
    "        moves = list(game.mainline_moves())  # List of moves\n",
    "\n",
    "        game_count += 1\n",
    "\n",
    "print(f\"Processed {game_count} games.\")\n"
   ]
  },
  {
   "cell_type": "markdown",
   "id": "00fd7c21",
   "metadata": {},
   "source": [
    "## Combine two or more PGN files "
   ]
  },
  {
   "cell_type": "code",
   "execution_count": 1,
   "id": "83eafd37",
   "metadata": {},
   "outputs": [
    {
     "name": "stdout",
     "output_type": "stream",
     "text": [
      "Total games processed: 125550\n",
      "Valid games written: 125550\n"
     ]
    }
   ],
   "source": [
    "# Folder containing the PGN files\n",
    "folder_path = \"dataset\"\n",
    "\n",
    "# Initialize variables\n",
    "total_games = 0\n",
    "valid_games = 0\n",
    "\n",
    "# File to store combined valid games\n",
    "output_file_path = \"combined_games.pgn\"\n",
    "\n",
    "with open(output_file_path, \"w\") as output_file:\n",
    "    # Iterate through all PGN files in the folder\n",
    "    for filename in os.listdir(folder_path):\n",
    "        if filename.endswith(\".pgn\"):\n",
    "            file_path = os.path.join(folder_path, filename)\n",
    "            \n",
    "            # Open and read each PGN file\n",
    "            with open(file_path, \"r\") as file:\n",
    "                while True:\n",
    "                    try:\n",
    "                        game = read_game(file)\n",
    "                        if game is None:\n",
    "                            break\n",
    "                        # Write valid games to the output file\n",
    "                        output_file.write(str(game) + \"\\n\\n\")\n",
    "                        valid_games += 1\n",
    "                    except ValueError as e:\n",
    "                        # Skip games with unsupported variants\n",
    "                        print(f\"Skipping a game due to error: {e}\")\n",
    "                    total_games += 1\n",
    "\n",
    "# Print the results\n",
    "print(f\"Total games processed: {total_games}\")\n",
    "print(f\"Valid games written: {valid_games}\")\n"
   ]
  },
  {
   "cell_type": "markdown",
   "id": "2db0a529",
   "metadata": {},
   "source": [
    "## PGN to Tensor conversion"
   ]
  },
  {
   "cell_type": "code",
   "execution_count": 1,
   "id": "5187d96a",
   "metadata": {
    "scrolled": true
   },
   "outputs": [
    {
     "name": "stdout",
     "output_type": "stream",
     "text": [
      "Read 63350....\n",
      "Limiting the games to 40000....\n"
     ]
    },
    {
     "name": "stderr",
     "output_type": "stream",
     "text": [
      "Processing Games: 100%|████████████████| 40000/40000 [03:04<00:00, 216.61game/s]\n"
     ]
    },
    {
     "name": "stdout",
     "output_type": "stream",
     "text": [
      "Time taken: 0h 3m 52s\n"
     ]
    }
   ],
   "source": [
    "import os\n",
    "from chess.pgn import read_game\n",
    "import chess\n",
    "import src.utils.board_to_tensor as bt\n",
    "from src.utils.data_preperation import chessDataLoader\n",
    "import torch\n",
    "import numpy as np\n",
    "\n",
    "tensor_dataset, value_data, policy_data = bt.TensorEncoder(\"./dataset/chess_1.pgn\", limit_games=int(4e4), depth=8, stockfish_path=\"/opt/homebrew/bin/stockfish\")\n",
    "\n",
    "# Changw Name before using\n",
    "\n",
    "# torch.save(tensor_dataset, \"dataset/board_2_tensor.pt\")\n",
    "# torch.save(value_data, \"dataset/value_2.pt\")\n",
    "# torch.save(policy_data, \"dataset/policy_2.pt\")\n"
   ]
  },
  {
   "cell_type": "markdown",
   "id": "97630948",
   "metadata": {},
   "source": [
    "## Verify the Data Loader"
   ]
  },
  {
   "cell_type": "code",
   "execution_count": 3,
   "id": "3662e220",
   "metadata": {},
   "outputs": [
    {
     "name": "stdout",
     "output_type": "stream",
     "text": [
      "torch.Size([256, 10, 19, 8, 8])\n",
      "torch.Size([256, 10])\n",
      "torch.Size([256, 10, 128])\n"
     ]
    }
   ],
   "source": [
    "import os\n",
    "from chess.pgn import read_game\n",
    "import src.utils.board_to_tensor as bt\n",
    "from src.utils.data_preperation import chessDataLoader\n",
    "import torch\n",
    "import numpy as np\n",
    "\n",
    "tensor_file = \"dataset/board_1_tensors.pt\"\n",
    "value_file = \"dataset/value_2.pt\"\n",
    "policy_file = \"dataset/policy_2.pt\"\n",
    "batch_size = 256\n",
    "dataloader = chessDataLoader(tensor_file, value_file, policy_file, batch_size=batch_size)\n",
    "\n",
    "# Example: Iterate over batches\n",
    "temp = None\n",
    "for game, value, policy in dataloader:\n",
    "    print(game.shape)\n",
    "    print(value.shape)\n",
    "    print(policy.shape)\n",
    "    break  # Just to show one batch"
   ]
  }
 ],
 "metadata": {
  "kernelspec": {
   "display_name": "Python 3 (ipykernel)",
   "language": "python",
   "name": "python3"
  },
  "language_info": {
   "codemirror_mode": {
    "name": "ipython",
    "version": 3
   },
   "file_extension": ".py",
   "mimetype": "text/x-python",
   "name": "python",
   "nbconvert_exporter": "python",
   "pygments_lexer": "ipython3",
   "version": "3.11.5"
  }
 },
 "nbformat": 4,
 "nbformat_minor": 5
}
