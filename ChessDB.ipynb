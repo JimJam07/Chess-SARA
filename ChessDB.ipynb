{
 "cells": [
  {
   "cell_type": "markdown",
   "source": [
    "# Chess Dataset Processing Script\n",
    "- This Script processes different PGN file and combines them into a singular file for easy processing"
   ],
   "metadata": {
    "collapsed": false
   },
   "id": "86f23addc2cb5c36"
  },
  {
   "cell_type": "code",
   "execution_count": 4,
   "id": "12e93356",
   "metadata": {},
   "outputs": [
    {
     "name": "stdout",
     "output_type": "stream",
     "text": [
      "Processed 63350 games.\n"
     ]
    }
   ],
   "source": [
    "import chess.pgn\n",
    "\n",
    "# Specify the PGN file path\n",
    "pgn_file_path = \"./dataset/chess_1.pgn\"\n",
    "\n",
    "# Open and parse the PGN file\n",
    "with open(pgn_file_path, \"r\") as pgn_file:\n",
    "    game_count = 0  # To track the number of games processed\n",
    "\n",
    "    while True:\n",
    "        # Read the next game\n",
    "        game = chess.pgn.read_game(pgn_file)\n",
    "        if game is None:  # End of file\n",
    "            break\n",
    "\n",
    "        # Process game metadata\n",
    "#         print(f\"Game {game_count + 1}\")\n",
    "#         print(\"Event:\", game.headers.get(\"Event\", \"Unknown\"))\n",
    "#         print(\"White:\", game.headers.get(\"White\", \"Unknown\"))\n",
    "#         print(\"Black:\", game.headers.get(\"Black\", \"Unknown\"))\n",
    "#         print(\"Result:\", game.headers.get(\"Result\", \"Unknown\"))\n",
    "\n",
    "        # Optional: Access moves\n",
    "        board = game.board()\n",
    "        moves = list(game.mainline_moves())  # List of moves\n",
    "#         print(\"First Move:\", board.san(moves[0]) if moves else \"No moves\")\n",
    "\n",
    "        game_count += 1\n",
    "\n",
    "        # Limit processing for testing (optional)\n",
    "        # if game_count >= 10:\n",
    "        #     break\n",
    "\n",
    "print(f\"Processed {game_count} games.\")\n"
   ]
  },
  {
   "cell_type": "code",
   "execution_count": 8,
   "id": "83eafd37",
   "metadata": {},
   "outputs": [
    {
     "name": "stdout",
     "output_type": "stream",
     "text": [
      "Total games processed: 208722\n",
      "Valid games written: 208722\n"
     ]
    }
   ],
   "source": [
    "import os\n",
    "from chess.pgn import read_game\n",
    "\n",
    "# Folder containing the PGN files\n",
    "folder_path = \"dataset\"\n",
    "\n",
    "# Initialize variables\n",
    "total_games = 0\n",
    "valid_games = 0\n",
    "\n",
    "# File to store combined valid games\n",
    "output_file_path = \"combined_games.pgn\"\n",
    "\n",
    "with open(output_file_path, \"w\") as output_file:\n",
    "    # Iterate through all PGN files in the folder\n",
    "    for filename in os.listdir(folder_path):\n",
    "        if filename.endswith(\".pgn\"):\n",
    "            file_path = os.path.join(folder_path, filename)\n",
    "            \n",
    "            # Open and read each PGN file\n",
    "            with open(file_path, \"r\") as file:\n",
    "                while True:\n",
    "                    try:\n",
    "                        game = read_game(file)\n",
    "                        if game is None:\n",
    "                            break\n",
    "                        # Write valid games to the output file\n",
    "                        output_file.write(str(game) + \"\\n\\n\")\n",
    "                        valid_games += 1\n",
    "                    except ValueError as e:\n",
    "                        # Skip games with unsupported variants\n",
    "                        print(f\"Skipping a game due to error: {e}\")\n",
    "                    total_games += 1\n",
    "\n",
    "# Print the results\n",
    "print(f\"Total games processed: {total_games}\")\n",
    "print(f\"Valid games written: {valid_games}\")\n"
   ]
  }
 ],
 "metadata": {
  "kernelspec": {
   "display_name": "Python 3 (ipykernel)",
   "language": "python",
   "name": "python3"
  },
  "language_info": {
   "codemirror_mode": {
    "name": "ipython",
    "version": 3
   },
   "file_extension": ".py",
   "mimetype": "text/x-python",
   "name": "python",
   "nbconvert_exporter": "python",
   "pygments_lexer": "ipython3",
   "version": "3.11.5"
  }
 },
 "nbformat": 4,
 "nbformat_minor": 5
}
