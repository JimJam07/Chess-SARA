{
 "cells": [
  {
   "cell_type": "markdown",
   "id": "86f23addc2cb5c36",
   "metadata": {},
   "source": [
    "# Chess Dataset Processing Script\n",
    "- This Script processes different PGN file and combines them into a singular file for easy processing"
   ]
  },
  {
   "cell_type": "code",
   "execution_count": 1,
   "id": "5e3f2a81",
   "metadata": {},
   "outputs": [],
   "source": [
    "import os\n",
    "from chess.pgn import read_game\n",
    "import utils.board_to_tensor as bt\n",
    "import torch"
   ]
  },
  {
   "cell_type": "markdown",
   "id": "a54cf2a6",
   "metadata": {},
   "source": [
    "## Counting number of games"
   ]
  },
  {
   "cell_type": "code",
   "execution_count": 3,
   "id": "12e93356",
   "metadata": {},
   "outputs": [
    {
     "name": "stdout",
     "output_type": "stream",
     "text": [
      "Processed 125550 games.\n"
     ]
    }
   ],
   "source": [
    "# Specify the PGN file path\n",
    "pgn_file_path = \"./combined_games.pgn\"\n",
    "\n",
    "# Open and parse the PGN file\n",
    "with open(pgn_file_path, \"r\") as pgn_file:\n",
    "    game_count = 0  # To track the number of games processed\n",
    "\n",
    "    while True:\n",
    "        # Read the next game\n",
    "        game = chess.pgn.read_game(pgn_file)\n",
    "        if game is None:  # End of file\n",
    "            break\n",
    "\n",
    "        # Optional: Access moves\n",
    "        board = game.board()\n",
    "        moves = list(game.mainline_moves())  # List of moves\n",
    "\n",
    "        game_count += 1\n",
    "\n",
    "print(f\"Processed {game_count} games.\")\n"
   ]
  },
  {
   "cell_type": "markdown",
   "id": "00fd7c21",
   "metadata": {},
   "source": [
    "## Combine two or more PGN files "
   ]
  },
  {
   "cell_type": "code",
   "execution_count": 1,
   "id": "83eafd37",
   "metadata": {},
   "outputs": [
    {
     "name": "stdout",
     "output_type": "stream",
     "text": [
      "Total games processed: 125550\n",
      "Valid games written: 125550\n"
     ]
    }
   ],
   "source": [
    "# Folder containing the PGN files\n",
    "folder_path = \"dataset\"\n",
    "\n",
    "# Initialize variables\n",
    "total_games = 0\n",
    "valid_games = 0\n",
    "\n",
    "# File to store combined valid games\n",
    "output_file_path = \"combined_games.pgn\"\n",
    "\n",
    "with open(output_file_path, \"w\") as output_file:\n",
    "    # Iterate through all PGN files in the folder\n",
    "    for filename in os.listdir(folder_path):\n",
    "        if filename.endswith(\".pgn\"):\n",
    "            file_path = os.path.join(folder_path, filename)\n",
    "            \n",
    "            # Open and read each PGN file\n",
    "            with open(file_path, \"r\") as file:\n",
    "                while True:\n",
    "                    try:\n",
    "                        game = read_game(file)\n",
    "                        if game is None:\n",
    "                            break\n",
    "                        # Write valid games to the output file\n",
    "                        output_file.write(str(game) + \"\\n\\n\")\n",
    "                        valid_games += 1\n",
    "                    except ValueError as e:\n",
    "                        # Skip games with unsupported variants\n",
    "                        print(f\"Skipping a game due to error: {e}\")\n",
    "                    total_games += 1\n",
    "\n",
    "# Print the results\n",
    "print(f\"Total games processed: {total_games}\")\n",
    "print(f\"Valid games written: {valid_games}\")\n"
   ]
  },
  {
   "cell_type": "markdown",
   "id": "2db0a529",
   "metadata": {},
   "source": [
    "## PGN to Tensor conversion"
   ]
  },
  {
   "cell_type": "code",
   "execution_count": 2,
   "id": "5187d96a",
   "metadata": {},
   "outputs": [
    {
     "name": "stdout",
     "output_type": "stream",
     "text": [
      "Read 63350....\n",
      "Limiting the games to 40000....\n"
     ]
    },
    {
     "name": "stderr",
     "output_type": "stream",
     "text": [
      "Processing Games: 100%|████████████████| 40000/40000 [00:54<00:00, 736.68game/s]\n"
     ]
    },
    {
     "name": "stdout",
     "output_type": "stream",
     "text": [
      "Time taken: 0h 1m 42s\n"
     ]
    }
   ],
   "source": [
    "tensor_dataset = bt.TensorEncoder(\"./dataset/chess_1.pgn\", limit_games=int(4e4))\n",
    "torch.save(torch.tensor(tensor_dataset), \"dataset/board_1_tensors.pt\")"
   ]
  }
 ],
 "metadata": {
  "kernelspec": {
   "display_name": "Python 3 (ipykernel)",
   "language": "python",
   "name": "python3"
  },
  "language_info": {
   "codemirror_mode": {
    "name": "ipython",
    "version": 3
   },
   "file_extension": ".py",
   "mimetype": "text/x-python",
   "name": "python",
   "nbconvert_exporter": "python",
   "pygments_lexer": "ipython3",
   "version": "3.11.5"
  }
 },
 "nbformat": 4,
 "nbformat_minor": 5
}
