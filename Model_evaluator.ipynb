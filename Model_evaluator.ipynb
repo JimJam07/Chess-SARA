{
 "cells": [
  {
   "cell_type": "code",
   "execution_count": 1,
   "id": "ff3b3d84",
   "metadata": {},
   "outputs": [],
   "source": [
    "from src.model_utils.model import ChessEngine\n",
    "from src.model_utils.evaluator import evaluate\n",
    "import torch"
   ]
  },
  {
   "cell_type": "code",
   "execution_count": 13,
   "id": "c9c9c2e1",
   "metadata": {},
   "outputs": [
    {
     "name": "stdout",
     "output_type": "stream",
     "text": [
      "('[Event \"Casual Game\"]\\n[Site \"?\"]\\n[Date \"2025.03.04\"]\\n[Round \"1\"]\\n[White \"White\"]\\n[Black \"Black\"]\\n[Result \"*\"]\\n\\n1. b2b4 a7a5 2. b4b5 d7d5 3. h2h3 b8d7 4. b5b6 c7c6 5. d2d3 d8b6 6. c1h6 g8h6 7. g2g4 e7e6 8. d3d4 d7f6 9. g1f3 e6e5 10. f3e5 h6g8 11. e1d2 b6d4 12. e5d3 f6e4 13. d2c1 d4a1 14. f1g2 f8a3 15. d3b2 a1b2 *\\n', tensor([[[ 0.0352]],\n",
      "\n",
      "        [[ 0.0647]],\n",
      "\n",
      "        [[-0.0042]],\n",
      "\n",
      "        [[-0.0983]],\n",
      "\n",
      "        [[-0.1345]],\n",
      "\n",
      "        [[-0.0038]],\n",
      "\n",
      "        [[-0.0889]],\n",
      "\n",
      "        [[-0.0567]],\n",
      "\n",
      "        [[-0.0061]],\n",
      "\n",
      "        [[-0.0117]],\n",
      "\n",
      "        [[-0.0131]],\n",
      "\n",
      "        [[-0.1940]],\n",
      "\n",
      "        [[-0.5819]],\n",
      "\n",
      "        [[-0.5693]],\n",
      "\n",
      "        [[-0.7114]]], grad_fn=<StackBackward0>))\n"
     ]
    }
   ],
   "source": [
    "model = ChessEngine()\n",
    "model.load_state_dict(torch.load(\"./trainer/model_epoch_20.pth\", map_location=torch.device(\"cpu\")))\n",
    "moves = evaluate(model)\n",
    "\n",
    "print(moves)"
   ]
  },
  {
   "cell_type": "code",
   "execution_count": 14,
   "id": "89a9ede4",
   "metadata": {},
   "outputs": [],
   "source": [
    "_, evals = moves"
   ]
  },
  {
   "cell_type": "code",
   "execution_count": 15,
   "id": "4b6fdd65",
   "metadata": {},
   "outputs": [],
   "source": [
    "evals = evals.squeeze(1).squeeze(1)"
   ]
  },
  {
   "cell_type": "code",
   "execution_count": 16,
   "id": "d844e066",
   "metadata": {},
   "outputs": [],
   "source": [
    "score = 800.0 * torch.atanh(evals)"
   ]
  },
  {
   "cell_type": "code",
   "execution_count": 17,
   "id": "c16b754c",
   "metadata": {},
   "outputs": [
    {
     "data": {
      "text/plain": [
       "tensor([  28.1597,   51.8009,   -3.3806,  -78.9271, -108.2523,   -3.0121,\n",
       "         -71.2978,  -45.4134,   -4.8410,   -9.3881,  -10.4610, -157.2001,\n",
       "        -532.2784, -517.2454, -711.9615], grad_fn=<MulBackward0>)"
      ]
     },
     "execution_count": 17,
     "metadata": {},
     "output_type": "execute_result"
    }
   ],
   "source": [
    "score"
   ]
  }
 ],
 "metadata": {
  "kernelspec": {
   "display_name": "Python 3 (ipykernel)",
   "language": "python",
   "name": "python3"
  },
  "language_info": {
   "codemirror_mode": {
    "name": "ipython",
    "version": 3
   },
   "file_extension": ".py",
   "mimetype": "text/x-python",
   "name": "python",
   "nbconvert_exporter": "python",
   "pygments_lexer": "ipython3",
   "version": "3.11.5"
  }
 },
 "nbformat": 4,
 "nbformat_minor": 5
}
